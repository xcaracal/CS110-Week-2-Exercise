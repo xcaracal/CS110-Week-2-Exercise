{
  "nbformat": 4,
  "nbformat_minor": 0,
  "metadata": {
    "colab": {
      "provenance": [],
      "authorship_tag": "ABX9TyMhBilXyoYqpiKSD/RYFZHV",
      "include_colab_link": true
    },
    "kernelspec": {
      "name": "python3",
      "display_name": "Python 3"
    },
    "language_info": {
      "name": "python"
    }
  },
  "cells": [
    {
      "cell_type": "markdown",
      "metadata": {
        "id": "view-in-github",
        "colab_type": "text"
      },
      "source": [
        "<a href=\"https://colab.research.google.com/github/xcaracal/CS110-Week-2-Exercise/blob/master/CS173_HW3.ipynb\" target=\"_parent\"><img src=\"https://colab.research.google.com/assets/colab-badge.svg\" alt=\"Open In Colab\"/></a>"
      ]
    },
    {
      "cell_type": "code",
      "execution_count": null,
      "metadata": {
        "colab": {
          "base_uri": "https://localhost:8080/"
        },
        "id": "KcmJKT6Wx9E6",
        "outputId": "11a488ed-a1cf-4d7a-a86b-4b6401beef91"
      },
      "outputs": [
        {
          "output_type": "stream",
          "name": "stdout",
          "text": [
            "Mounted at /content/drive/\n"
          ]
        }
      ],
      "source": [
        "from google.colab import drive\n",
        "drive.mount(\"/content/drive/\", force_remount=True)"
      ]
    },
    {
      "cell_type": "code",
      "source": [
        "import nltk\n",
        "\n",
        "# Download the 'punkt' resource\n",
        "nltk.download('punkt')\n"
      ],
      "metadata": {
        "colab": {
          "base_uri": "https://localhost:8080/"
        },
        "id": "qiFeccxrG6dt",
        "outputId": "237e55e7-2cc3-4e6b-a6d8-2f2ab8150de5"
      },
      "execution_count": null,
      "outputs": [
        {
          "output_type": "stream",
          "name": "stderr",
          "text": [
            "[nltk_data] Downloading package punkt to /root/nltk_data...\n",
            "[nltk_data]   Unzipping tokenizers/punkt.zip.\n"
          ]
        },
        {
          "output_type": "execute_result",
          "data": {
            "text/plain": [
              "True"
            ]
          },
          "metadata": {},
          "execution_count": 3
        }
      ]
    },
    {
      "cell_type": "code",
      "source": [
        "f_path = '/content/drive/MyDrive/hw3'"
      ],
      "metadata": {
        "id": "ZY5D853Yydqw"
      },
      "execution_count": null,
      "outputs": []
    },
    {
      "cell_type": "code",
      "source": [
        "import pandas as pd\n",
        "\n",
        "# Read the CSV file\n",
        "data = pd.read_csv('/content/drive/MyDrive/Sheet1.csv')\n",
        "\n",
        "train_data = data[:30]\n",
        "validation_data = data[30:40]\n",
        "test_data = data[40:50]\n",
        "\n",
        "train_data = train_data.dropna()\n",
        "validation_data = validation_data.dropna()\n",
        "test_data = test_data.dropna()\n",
        "\n",
        "\n",
        "\n",
        "# Save each set to a separate CSV file\n",
        "train_data.to_csv('train.csv', index=False)\n",
        "validation_data.to_csv('validation.csv', index=False)\n",
        "test_data.to_csv('test.csv', index=False)"
      ],
      "metadata": {
        "id": "SEfA_LZI0y2Z"
      },
      "execution_count": null,
      "outputs": []
    },
    {
      "cell_type": "code",
      "source": [
        "import pandas as pd\n",
        "import nltk\n",
        "nltk.download('punkt')\n",
        "\n",
        "# Read in CSV file\n",
        "data = pd.read_csv('/content/drive/MyDrive/Sheet1.csv')\n",
        "\n",
        "# Define a function to tokenize text\n",
        "def tokenize_text(text):\n",
        "    if isinstance(text, str):\n",
        "        tokens = nltk.word_tokenize(text)\n",
        "    else:\n",
        "        tokens = []\n",
        "    return tokens\n",
        "\n",
        "# Apply tokenization to each row of text\n",
        "data['tokens'] = data['Sadness + Joy + Fear Sentences'].apply(tokenize_text)\n",
        "\n",
        "# Save the modified CSV file\n",
        "data.to_csv('/content/drive/MyDrive/Sheet1.csv', index=False)\n"
      ],
      "metadata": {
        "colab": {
          "base_uri": "https://localhost:8080/"
        },
        "id": "-cawZeXzR6u4",
        "outputId": "4e9857c0-786a-4cdf-ddde-ff80192adaec"
      },
      "execution_count": null,
      "outputs": [
        {
          "output_type": "stream",
          "name": "stderr",
          "text": [
            "[nltk_data] Downloading package punkt to /root/nltk_data...\n",
            "[nltk_data]   Package punkt is already up-to-date!\n"
          ]
        }
      ]
    },
    {
      "cell_type": "code",
      "source": [
        "for i, row in data.iterrows():\n",
        "    print(row['tokens'])"
      ],
      "metadata": {
        "id": "lbbPlB2oSu6U"
      },
      "execution_count": null,
      "outputs": []
    },
    {
      "cell_type": "code",
      "source": [
        "# Calculate priors for each emotion category\n",
        "\n",
        "\n",
        "\n",
        "fear_count = len(train_data['Fear Sentences']) + len(train_data['Fear + Anger Sentences']) + len(train_data['Sadness + Joy + Fear Sentences'])\n",
        "anger_count = len(train_data['Anger Sentences']) + len(train_data['Fear + Anger Sentences'])\n",
        "surprise_count = len(train_data['Surprise Sentence']) + len(train_data['Surprise + Disgust Sentences'])\n",
        "disgust_count = len(train_data['Disgust Sentences'])+ len(train_data['Surprise + Disgust Sentences'])\n",
        "sadness_count = len(train_data['Sadness Sentences']) + len(train_data['Sadness + Joy + Fear Sentences']) + len(train_data['Sadness + Joy Sentences'])\n",
        "joy_count = len(train_data['Joy Sentences']) + len(train_data['Sadness + Joy + Fear Sentences']) + len(train_data['Sadness + Joy Sentences'])\n",
        "num_sentences = len(train_data['Fear Sentences']) + len(train_data['Fear + Anger Sentences']) + len(train_data['Sadness + Joy + Fear Sentences']) + len(train_data['Anger Sentences']) + len(train_data['Surprise Sentence']) + len(train_data['Surprise + Disgust Sentences']) + len(train_data['Disgust Sentences'])+len(train_data['Sadness Sentences']) + len(train_data['Sadness + Joy + Fear Sentences']) + len(train_data['Sadness + Joy Sentences']) +len(train_data['Joy Sentences'])\n",
        "\n",
        "p_fear = fear_count / num_sentences\n",
        "p_anger = anger_count / num_sentences\n",
        "p_surprise = surprise_count / num_sentences\n",
        "p_disgust = disgust_count / num_sentences\n",
        "p_sadness = sadness_count / num_sentences\n",
        "p_joy = joy_count / num_sentences\n",
        "\n",
        "# Print priors for each emotion category\n",
        "print(\"P(Fear) = \", p_fear)\n",
        "print(\"P(Anger) = \", p_anger)\n",
        "print(\"P(Surprise) = \", p_surprise)\n",
        "print(\"P(Disgust) = \", p_disgust)\n",
        "print(\"P(Sadness) = \", p_sadness)\n",
        "print(\"P(Joy) = \", p_joy)\n"
      ],
      "metadata": {
        "id": "s_T3UJW3Su-8",
        "colab": {
          "base_uri": "https://localhost:8080/"
        },
        "outputId": "39fd38ce-590e-464e-8f0e-d9a97bcdf88f"
      },
      "execution_count": null,
      "outputs": [
        {
          "output_type": "stream",
          "name": "stdout",
          "text": [
            "P(Fear) =  0.2727272727272727\n",
            "P(Anger) =  0.18181818181818182\n",
            "P(Surprise) =  0.18181818181818182\n",
            "P(Disgust) =  0.18181818181818182\n",
            "P(Sadness) =  0.2727272727272727\n",
            "P(Joy) =  0.2727272727272727\n"
          ]
        }
      ]
    },
    {
      "cell_type": "code",
      "source": [
        "import pandas as pd\n",
        "import nltk\n",
        "from collections import Counter\n",
        "\n",
        "# Load the emotion lexicon data\n",
        "lexicon_df = pd.read_csv('/content/drive/MyDrive/Sheet1.csv')\n",
        "\n",
        "# Extract the lexicons and sentences for each emotion category\n",
        "fear_lexicons = lexicon_df[\"Fear Lexicons\"].dropna().tolist()\n",
        "fear_sentences = lexicon_df[\"Fear Sentences\"].dropna().tolist()\n",
        "\n",
        "anger_lexicons = lexicon_df[\"Anger Lexicons\"].dropna().tolist()\n",
        "anger_sentences = lexicon_df[\"Anger Sentences\"].dropna().tolist()\n",
        "\n",
        "surprise_lexicons = lexicon_df[\"Surprise Lexicons\"].dropna().tolist()\n",
        "surprise_sentences = lexicon_df[\"Surprise Sentence\"].dropna().tolist()\n",
        "\n",
        "disgust_lexicons = lexicon_df[\"Disgust Lexicons\"].dropna().tolist()\n",
        "disgust_sentences = lexicon_df[\"Disgust Sentences\"].dropna().tolist()\n",
        "\n",
        "sadness_lexicons = lexicon_df[\"Sadness Lexicons\"].dropna().tolist()\n",
        "sadness_sentences = lexicon_df[\"Sadness Sentences\"].dropna().tolist()\n",
        "\n",
        "joy_lexicons = lexicon_df[\"Joy Lexicons\"].dropna().tolist()\n",
        "joy_sentences = lexicon_df[\"Joy Sentences\"].dropna().tolist()\n",
        "\n",
        "# Tokenize the lexicons and sentences\n",
        "fear_tokens = nltk.word_tokenize(\" \".join(fear_lexicons + fear_sentences))\n",
        "anger_tokens = nltk.word_tokenize(\" \".join(anger_lexicons + anger_sentences))\n",
        "surprise_tokens = nltk.word_tokenize(\" \".join(surprise_lexicons + surprise_sentences))\n",
        "disgust_tokens = nltk.word_tokenize(\" \".join(disgust_lexicons + disgust_sentences))\n",
        "sadness_tokens = nltk.word_tokenize(\" \".join(sadness_lexicons + sadness_sentences))\n",
        "joy_tokens = nltk.word_tokenize(\" \".join(joy_lexicons + joy_sentences))\n",
        "\n",
        "# Create a set of all unique words\n",
        "vocabulary = set(fear_tokens + anger_tokens + surprise_tokens + disgust_tokens + sadness_tokens + joy_tokens)\n",
        "\n",
        "# Count the occurrences of each word in each emotion category\n",
        "fear_counts = Counter(fear_tokens)\n",
        "anger_counts = Counter(anger_tokens)\n",
        "surprise_counts = Counter(surprise_tokens)\n",
        "disgust_counts = Counter(disgust_tokens)\n",
        "sadness_counts = Counter(sadness_tokens)\n",
        "joy_counts = Counter(joy_tokens)\n",
        "\n",
        "#3.1:---------------------------------------------------------------------------------------------------------------------------------------\n",
        "#Make sure you have already run calculations of the priors of each emotion category.\n",
        "#copy/paste implementation of code into code cell\n",
        "#run\n",
        "#six dictionaries are made containing likelyhoods\n",
        "#can access specific emotion category using variable name\n",
        "\n",
        "# Calculate the likelihood of each word given an emotion category using Laplace smoothing\n",
        "k = 1  # Laplace smoothing constant\n",
        "fear_likelihoods = {}\n",
        "for word in vocabulary:\n",
        "    count = fear_counts[word]\n",
        "    likelihood = (count + k) / (len(fear_tokens) + len(vocabulary) * k)\n",
        "    fear_likelihoods[word] = likelihood\n",
        "\n",
        "k = 1  # Laplace smoothing constant\n",
        "anger_likelihoods = {}\n",
        "for word in vocabulary:\n",
        "    count = anger_counts[word]\n",
        "    likelihood = (count + k) / (len(anger_tokens) + len(vocabulary) * k)\n",
        "    anger_likelihoods[word] = likelihood\n",
        "\n",
        "k = 1  # Laplace smoothing constant\n",
        "surprise_likelihoods = {}\n",
        "for word in vocabulary:\n",
        "    count = surprise_counts[word]\n",
        "    likelihood = (count + k) / (len(surprise_tokens) + len(vocabulary) * k)\n",
        "    surprise_likelihoods[word] = likelihood\n",
        "\n",
        "k = 1  # Laplace smoothing constant\n",
        "disgust_likelihoods = {}\n",
        "for word in vocabulary:\n",
        "    count = disgust_counts[word]\n",
        "    likelihood = (count + k) / (len(disgust_tokens) + len(vocabulary) * k)\n",
        "    disgust_likelihoods[word] = likelihood\n",
        "\n",
        "k = 1  # Laplace smoothing constant\n",
        "sadness_likelihoods = {}\n",
        "for word in vocabulary:\n",
        "    count = sadness_counts[word]\n",
        "    likelihood = (count + k) / (len(sadness_tokens) + len(vocabulary) * k)\n",
        "    sadness_likelihoods[word] = likelihood\n",
        "\n",
        "k = 1  # Laplace smoothing constant\n",
        "joy_likelihoods = {}\n",
        "for word in vocabulary:\n",
        "    count = joy_counts[word]\n",
        "    likelihood = (count + k) / (len(joy_tokens) + len(vocabulary) * k)\n",
        "    joy_likelihoods[word] = likelihood\n",
        "\n",
        "\n"
      ],
      "metadata": {
        "id": "3ISuKt-zloF5"
      },
      "execution_count": null,
      "outputs": []
    },
    {
      "cell_type": "code",
      "source": [
        "#3.3\n",
        "#make sure to run prior code to get the likelihoods and the prior calcualtions\n",
        "import re\n",
        "S = \"As she hugged her daughter goodbye on the first day of college, she felt both sad to see her go and joyful knowing that she was embarking on a new and exciting chapter in her life.\"\n",
        "S = re.findall(r'\\b\\w+\\b', S.lower())\n",
        "\n",
        "\n",
        "emotions = ['Fear', 'Anger', 'Surprise', 'Disgust', 'Sadness', 'Joy']\n",
        "\n",
        "import math\n",
        "log_prob_fear = math.log(p_fear)\n",
        "log_prob_anger = math.log(p_anger)\n",
        "log_prob_surprise = math.log(p_surprise)\n",
        "log_prob_disgust = math.log(p_disgust)\n",
        "log_prob_sadness = math.log(p_sadness)\n",
        "log_prob_joy = math.log(p_joy)\n",
        "\n",
        "for word in S:\n",
        "    if word in vocabulary:\n",
        "        log_prob_fear += math.log(fear_likelihoods[word])\n",
        "        log_prob_anger += math.log(anger_likelihoods[word])\n",
        "        log_prob_surprise += math.log(surprise_likelihoods[word])\n",
        "        log_prob_disgust += math.log(disgust_likelihoods[word])\n",
        "        log_prob_sadness += math.log(sadness_likelihoods[word])\n",
        "        log_prob_joy += math.log(joy_likelihoods[word])\n",
        "\n",
        "log_probabilities = [log_prob_fear, log_prob_anger, log_prob_surprise, log_prob_disgust, log_prob_sadness, log_prob_joy]\n",
        "predicted_emotion = emotions[log_probabilities.index(max(log_probabilities))]\n",
        "\n",
        "print(log_probabilities)\n",
        "print(predicted_emotion)\n",
        "\n",
        "\n"
      ],
      "metadata": {
        "colab": {
          "base_uri": "https://localhost:8080/"
        },
        "id": "vCUiUquHw5-M",
        "outputId": "b22fa349-c373-4110-f765-b9ff5379dff3"
      },
      "execution_count": null,
      "outputs": [
        {
          "output_type": "stream",
          "name": "stdout",
          "text": [
            "[-196.25945118056515, -199.9750335540179, -196.55006711822057, -204.838661122753, -193.38419623424355, -190.55541377573084]\n",
            "Joy\n"
          ]
        }
      ]
    },
    {
      "cell_type": "code",
      "source": [
        "\n",
        "def predict_emotion(sentence):\n",
        "    \n",
        "    emotions = ['Fear', 'Anger', 'Surprise', 'Disgust', 'Sadness', 'Joy']\n",
        "    \n",
        "    S = re.findall(r'\\b\\w+\\b', sentence.lower())\n",
        "\n",
        "    log_prob_fear = math.log(p_fear)\n",
        "    log_prob_anger = math.log(p_anger)\n",
        "    log_prob_surprise = math.log(p_surprise)\n",
        "    log_prob_disgust = math.log(p_disgust)\n",
        "    log_prob_sadness = math.log(p_sadness)\n",
        "    log_prob_joy = math.log(p_joy)\n",
        "\n",
        "    for word in S:\n",
        "        if word in vocabulary:\n",
        "            log_prob_fear += math.log(fear_likelihoods[word])\n",
        "            log_prob_anger += math.log(anger_likelihoods[word])\n",
        "            log_prob_surprise += math.log(surprise_likelihoods[word])\n",
        "            log_prob_disgust += math.log(disgust_likelihoods[word])\n",
        "            log_prob_sadness += math.log(sadness_likelihoods[word])\n",
        "            log_prob_joy += math.log(joy_likelihoods[word])\n",
        "\n",
        "    log_probabilities = [log_prob_fear, log_prob_anger, log_prob_surprise, log_prob_disgust, log_prob_sadness, log_prob_joy]\n",
        "    predicted_emotion = emotions[log_probabilities.index(max(log_probabilities))]\n",
        "    \n",
        "    return predicted_emotion\n"
      ],
      "metadata": {
        "id": "gh70rn0Yg1q8"
      },
      "execution_count": null,
      "outputs": []
    },
    {
      "cell_type": "code",
      "source": [
        "#tester\n",
        "\n",
        "# Load the emotion lexicon data\n",
        "df = test_data\n",
        "\n",
        "# Extract the lexicons and sentences for each emotion category\n",
        "fear_lex = df[\"Fear Lexicons\"].dropna().tolist()\n",
        "fear_sent = df[\"Fear Sentences\"].dropna().tolist()\n",
        "\n",
        "anger_lex = df[\"Anger Lexicons\"].dropna().tolist()\n",
        "anger_sent = df[\"Anger Sentences\"].dropna().tolist()\n",
        "\n",
        "surprise_lex = df[\"Surprise Lexicons\"].dropna().tolist()\n",
        "surprise_sent = df[\"Surprise Sentence\"].dropna().tolist()\n",
        "\n",
        "disgust_lex = df[\"Disgust Lexicons\"].dropna().tolist()\n",
        "disgust_sent = df[\"Disgust Sentences\"].dropna().tolist()\n",
        "\n",
        "sadness_lex = df[\"Sadness Lexicons\"].dropna().tolist()\n",
        "sadness_sent = df[\"Sadness Sentences\"].dropna().tolist()\n",
        "\n",
        "joy_lex = df[\"Joy Lexicons\"].dropna().tolist()\n",
        "joy_sent = df[\"Joy Sentences\"].dropna().tolist()\n"
      ],
      "metadata": {
        "id": "a4Qb1cVocKxw"
      },
      "execution_count": null,
      "outputs": []
    },
    {
      "cell_type": "code",
      "source": [
        "!pip install scikit-learn"
      ],
      "metadata": {
        "colab": {
          "base_uri": "https://localhost:8080/"
        },
        "id": "zXNA8WiOEact",
        "outputId": "3c2ca066-e888-418b-f0fe-dc5622204030"
      },
      "execution_count": null,
      "outputs": [
        {
          "output_type": "stream",
          "name": "stdout",
          "text": [
            "Looking in indexes: https://pypi.org/simple, https://us-python.pkg.dev/colab-wheels/public/simple/\n",
            "Requirement already satisfied: scikit-learn in /usr/local/lib/python3.10/dist-packages (1.2.2)\n",
            "Requirement already satisfied: numpy>=1.17.3 in /usr/local/lib/python3.10/dist-packages (from scikit-learn) (1.22.4)\n",
            "Requirement already satisfied: threadpoolctl>=2.0.0 in /usr/local/lib/python3.10/dist-packages (from scikit-learn) (3.1.0)\n",
            "Requirement already satisfied: joblib>=1.1.1 in /usr/local/lib/python3.10/dist-packages (from scikit-learn) (1.2.0)\n",
            "Requirement already satisfied: scipy>=1.3.2 in /usr/local/lib/python3.10/dist-packages (from scikit-learn) (1.10.1)\n"
          ]
        }
      ]
    },
    {
      "cell_type": "code",
      "source": [
        "import re\n",
        "import string\n",
        "\n",
        "def preprocess_text(text):\n",
        "    \"\"\"\n",
        "    Preprocess text data by converting to lowercase, removing punctuation,\n",
        "    and removing extra whitespace.\n",
        "    \"\"\"\n",
        "    text = text.lower()\n",
        "    text = re.sub(r'[{}]'.format(string.punctuation), '', text)\n",
        "    text = re.sub(r'\\s+', ' ', text)\n",
        "    return text.strip()\n",
        "\n",
        "label_cols = ['Fear Sentences', 'Anger Sentences', 'Surprise Sentence', 'Disgust Sentences', 'Sadness Sentences', 'Joy Sentences']\n",
        "# apply preprocessing to train_data\n",
        "train_data_clean = train_data[label_cols].applymap(preprocess_text)\n",
        "\n",
        "# apply preprocessing to test_data\n",
        "test_data_clean = test_data[label_cols].applymap(preprocess_text)\n",
        "\n",
        "print(test_data_clean.values)"
      ],
      "metadata": {
        "id": "JvEW43jlgSxv",
        "colab": {
          "base_uri": "https://localhost:8080/"
        },
        "outputId": "f37b65fc-0ceb-4fb8-fc21-31534f421d3d"
      },
      "execution_count": null,
      "outputs": [
        {
          "output_type": "stream",
          "name": "stdout",
          "text": [
            "[['the reported sightings of a ghost made it difficult and dangerous to walk through the neighborhood at night'\n",
            "  'the frustrated soccer player grabbed a ball and kicked it over the fence'\n",
            "  'when the magician popped open the balloon the woman was holding a ring landed on her lap prompting a loud gasp from her'\n",
            "  'the janitor almost puked when he saw the filthy bathroom he was about to clean'\n",
            "  'the lone wolf laid in isolation regretting its inability to protect its pack from dying'\n",
            "  'the beautiful bridesmaid happily jumped into the bride’s arms congratulating her']\n",
            " ['she trembled in fear as she stumbled upon the eerie abandoned old building in the middle of the night feeling a sense of foreboding and desolation'\n",
            "  'he clenched his fists and teeth holding back a fight and calming his anger while hearing about the injustice and wrongful accusation against his best friend'\n",
            "  'she let out a yelp in surprise when her friends from home threw a surprise party for her birthday catching her off guard'\n",
            "  'realizing the bread had an abnormal texture of the slimy bread and growing cultures after she took a bite made her recoil with a mix of disgust and surprise'\n",
            "  'the lonely and hungry puppy whined as he sat in the cold feeling abandoned by his owner'\n",
            "  'her heart melted in joy as she watched her young daughter dance and twirl reveling in the exuberance of youth']\n",
            " ['as the thundering steps from the other side of the door grew louder i felt horrified and helpless knowing what was going to happen to me'\n",
            "  'the scorching sound of the neighbors made me thrash my fist against the wall so i could finally get some peace after what felt like an eternity'\n",
            "  'i caught myself staggering my words trying to explain my reasons for the unexpected overdue debts i had discovered'\n",
            "  'the neglected little girl was kept in such a wreck that everyone began thinking what shoddy people could do such a thing to someone so young'\n",
            "  'as i stared into the lifeless eyes of the only person i could call my friend my grief quickly grew into isolation'\n",
            "  'while the horde of zombies began surrounding us all i could do was laugh as the excitement was too much for me to handle']\n",
            " ['when i walked into the dimly lit abandoned house a suffocating stench immediately struck me i felt chills go down my spine as i shined my flashlight upon a completely wrecked grand piano what was once a beautiful marvel of human achievement and creativity was now nothing more than a disintegrating symbol of despair'\n",
            "  '“you really think i would trust you again after what you did to my family you’re delusional ethan” mariano spat out ethan composed as ever merely taunted “you insult me my loyal friend you know i was only trying to help save you at the end of the day your family would have been your ruin and you know it” “enough with the mind games you and i both know there’s only one way this ends” mariano’s stare of contempt remained fixated on ethan as he slowly withdrew his saber'\n",
            "  'ethan looked down in bewilderment at the blade that was now inches deep in his chest he had never even had to struggle to succeed in defeating an opponent how was it possible that his former friend whom he had defeated in spars with ease since childhood had finally triumphed “how” was all ethan managed to choke out “your weakness was always overestimating yourself ethan you really think i didn’t let you win all these years” as the light left ethan’s eyes mariano walked past him through the carnage that resulted from their epic battle “my city will never be the same” he mused'\n",
            "  '“no way you’re going to drink that” i said as my friend lifted the entire cup of ranch to her lips “a bet’s a bet” she replied my friend has never had an aversion to doing extreme things but this was perhaps the most degrading thing she had agreed to yet “you’re an idiot you know that” i said in disbelief as she started drinking the ranch'\n",
            "  'the sickening realization finally dawned on mariano his closest friend and confidant ethan was behind the murders all along “how did i not realize this sooner” wondered mariano for once he did not know what to do next the acute feeling of helplessness was not something he had experienced before he finally resolved that he would do whatever it took to rectify his former ally’s betrayal'\n",
            "  'it was finally match point after a three hour battle of attrition on the center court my partner and i shared a look of determination before he bounced the ball back to me i stood at the service line and took a deep breath then went through the motions i had practiced millions of times before toss the ball up bend my legs and wind up my body for the perfect contact and release the energy from my legs all the way to my fingertips and before i knew what happened my partner was embracing me i realized with astonishment that i had served the first ace of the game to this day i have never experienced a sweeter victory']\n",
            " ['rohit getting vaccinated and practicing social distancing is crucial to prevent the spread of covid19 and ease the fear of going outside that has gripped the country chatgpt by getting vaccinated and diligently practicing social distancing we can effectively prevent the spread of covid19 which has kept many from venturing outside their homes rohit the military’s presence in the town was felt throughout the village people began to wonder why they were setting up station in the town and what dangers were present chatgpt the military presence in the area rippled through the community as they wondered what imminent danger could be lurking just beyond the horizon rohit although the kids were excited to see the rattlesnake up close during the animal attraction at the birthday party a lot of the party goers did not want to get bit by the venomous snake chatgpt while some of the children were thrilled to observe the rattlesnake up close during the animal attraction at the birthday party many of the attendees couldnt shake off their the thought of a venomous snake bite'\n",
            "  'rohit the protesting crowd was riled up following the injustices brought upon their community by the police officers you could feel the tension in the air between the protestors and the riot force chatgpt the tension was palpable in the protesting crowd as they stood their ground against the riot force the air heavy with the hot emotions fueled by the injustices their community had suffered at the hands of the police officers rohit as a mischievous kid i often would push my parents to their limits and spankings became a familiar punishment for my wrongdoings chatgpt as a mischievous kid i often pushed my parents to the brink of madness and spankings became a familiar punishment for my misbehavior'\n",
            "  'rohit the baseball game was placed on delay abruptly as the sunny skies quickly gave way to a stormy sky the fans were taken aback by the surprising change of weather since the forecast did not account for it chatgpt the baseball game was unexpectedly disrupted by an abrupt weather shift as the bright and sunny skies swiftly turned into a stormy scene leaving the fans in utter surprise as it was not forecasted rohit the outcome of the social experiment was highly variable it left the experts questioned with the outcome of the initial trials chatgpt the experts were taken aback by the remarkably variable results of the social experiment which defied their initial expectations rohit the model s zany outfit choice for the runway show left everyone shocked as their eyes locked on her as she moved across the runway chatgpt the models zany outfit choice for the runway show was so unexpected that it left the audience in a state of shock with all eyes fixed on her and mouths agape in disbelief'\n",
            "  'rohit the smell of puke and from the sick dog throwing up the previous night secreted out of the apartment and was awful to wake up to chatgpt the noxious odor emanating from the apartment a result of the sick dog vomiting the previous night was repulsive to wake up to'\n",
            "  'rohit whenever i think about the times you used to be mine feeling of blue washes over me like a large wave chatgpt whenever thoughts of our time together cross my mind im overcome by a wave of blue that washes over me rohit the emptiness she left me feeling inside is overwhelming i long for her accompaniment and how things used to be chatgpt the overwhelming sense of emptiness left in her wake weighs heavily on my heart and i find myself yearning for her comforting presence and the way things used to be between us rohit i am always the happy guy and when i truly open up to other about how i really feel my feelings are often looked at as invalid and not sincere it only adds to my weight of sadness that i carry around on the daily inside chatgpt as someone whos always been seen as the happygolucky type opening up to others about my true feelings can be a struggle especially when those feelings are met with dismissal or viewed as invalid its an added weight that i carry with me daily knowing that my authentic emotions are not fully understood or appreciated'\n",
            "  'rohit the beach has always been a happy place of mine there is a private beach in malibu that i love to go to it is where i can go to escape reality and ground my emotions i love to share this secret place with my close friends the deep conversations i have with these people that mean so much to me brings me joy chatgpt the beach has always been my happy place but theres something about the private shores of malibu that holds a special place in my heart when i need to escape reality and ground my emotions its the first place i go sharing this secret haven with close friends and having deep conversations with those who mean the world to me brings an indescribable feeling that i cherish rohit as a kid there was nothing that brought more joy to my sister than playing with her dolls as her older brother there way nothing more funny to me than when our pet dog biscuit would steal one of her toys and run off with it chatgpt my sisters greatest source of entertainment as a child was undoubtedly her collection of dolls and as her older brother nothing gave me greater amusement than watching our mischievous pet dog biscuit steal one of her toys and dash off with it much to her chagrin rohit personally there is nothing quite whimsical as cracking a joke in an inappropriate setting the satisfaction from making people laugh when they are stressed makes me feeling like i did my job chatgpt for me theres nothing quite as whimsical as cracking an inappropriate joke in the most unexpected and hilarious of situations']\n",
            " ['the mans heart raced as he walked towards the scarecrow in the field suddenly he felt a cold gust of wind blow past him and as he looked up the scarecrows lifeless eyes appeared to have come alive and were now staring straight at him the scene filled him with dread and sent shivers down his spine'\n",
            "  'the boy felt the fury rise within him as he watched the group of bullies taunt and humiliate his little brother he was determined to put a stop to their cruel behavior once and for all'\n",
            "  'as she walked into the darkened room she was amazed to see her friends and family gathered there all shouting happy birthday in unison'\n",
            "  'the taste of the rotten and moldy sandwich filled him with repulsion and he quickly spat it out unable to swallow it'\n",
            "  'the young boy sat alone on the curb watching as families walked by holding hands and laughing he didnt understand why his parents had abandoned him his heart ached with the knowledge that he was all alone in the world with no one to turn to or care for him'\n",
            "  'after numerous interviews and coding challenges he finally landed a job as a software engineer at his dream company he was feeling accomplished and elated at the start of his new career journey']]\n"
          ]
        }
      ]
    },
    {
      "cell_type": "code",
      "source": [
        "pip install scikit-learn"
      ],
      "metadata": {
        "colab": {
          "base_uri": "https://localhost:8080/"
        },
        "id": "fjcigNjDiTBS",
        "outputId": "d367ae00-2b81-4dab-f027-c088ebc639cb"
      },
      "execution_count": null,
      "outputs": [
        {
          "output_type": "stream",
          "name": "stdout",
          "text": [
            "Looking in indexes: https://pypi.org/simple, https://us-python.pkg.dev/colab-wheels/public/simple/\n",
            "Requirement already satisfied: scikit-learn in /usr/local/lib/python3.10/dist-packages (1.2.2)\n",
            "Requirement already satisfied: scipy>=1.3.2 in /usr/local/lib/python3.10/dist-packages (from scikit-learn) (1.10.1)\n",
            "Requirement already satisfied: joblib>=1.1.1 in /usr/local/lib/python3.10/dist-packages (from scikit-learn) (1.2.0)\n",
            "Requirement already satisfied: numpy>=1.17.3 in /usr/local/lib/python3.10/dist-packages (from scikit-learn) (1.22.4)\n",
            "Requirement already satisfied: threadpoolctl>=2.0.0 in /usr/local/lib/python3.10/dist-packages (from scikit-learn) (3.1.0)\n"
          ]
        }
      ]
    },
    {
      "cell_type": "code",
      "source": [
        "from sklearn.metrics import confusion_matrix\n",
        "\n",
        "\n",
        "y_pred = []\n",
        "true_p = []\n",
        "for emot in fear_sent:\n",
        "  true_p.append('Fear');\n",
        "  y_pred.append(predict_emotion(emot));\n",
        "\n",
        "for emot in joy_sent:\n",
        "  true_p.append('Joy');\n",
        "  y_pred.append(predict_emotion(emot));\n",
        "\n",
        "for emot in surprise_sent:\n",
        "  true_p.append('Surprise');\n",
        "  y_pred.append(predict_emotion(emot));\n",
        "\n",
        "for emot in anger_sent:\n",
        "  true_p.append('Anger');\n",
        "  y_pred.append(predict_emotion(emot));\n",
        "\n",
        "for emot in sadness_sent:\n",
        "  true_p.append('Sadness');\n",
        "  y_pred.append(predict_emotion(emot));\n",
        "\n",
        "for emot in disgust_sent:\n",
        "  true_p.append('Disgust');\n",
        "  y_pred.append(predict_emotion(emot));\n",
        "\n",
        "y_true = true_p\n",
        "\n",
        "print(y_pred)\n",
        "\n",
        "cm = confusion_matrix(y_true, y_pred, labels=['Sadness', 'Joy', 'Fear', 'Anger', 'Surprise', 'Disgust'])\n",
        "\n",
        "print(cm)"
      ],
      "metadata": {
        "colab": {
          "base_uri": "https://localhost:8080/"
        },
        "id": "id88olPmipmc",
        "outputId": "865ec48c-5e14-430d-c2e5-9a30aecdb850"
      },
      "execution_count": null,
      "outputs": [
        {
          "output_type": "stream",
          "name": "stdout",
          "text": [
            "['Fear', 'Fear', 'Fear', 'Surprise', 'Surprise', 'Fear', 'Fear', 'Joy', 'Surprise', 'Surprise', 'Surprise', 'Joy', 'Joy', 'Surprise', 'Surprise', 'Surprise', 'Surprise', 'Fear', 'Surprise', 'Anger', 'Surprise', 'Anger', 'Disgust', 'Disgust', 'Surprise', 'Sadness', 'Surprise', 'Fear', 'Surprise', 'Disgust', 'Surprise', 'Fear', 'Surprise', 'Surprise', 'Surprise', 'Joy']\n",
            "[[1 0 1 0 3 1]\n",
            " [0 2 1 0 3 0]\n",
            " [0 0 4 0 2 0]\n",
            " [0 0 0 2 2 2]\n",
            " [0 1 1 0 4 0]\n",
            " [0 1 1 0 4 0]]\n"
          ]
        }
      ]
    },
    {
      "cell_type": "code",
      "source": [
        "import seaborn as sns\n",
        "import matplotlib.pyplot as plt\n",
        "\n",
        "# Generate confusion matrix\n",
        "conf_mat = confusion_matrix(y_true, y_pred)\n",
        "\n",
        "# define class labels\n",
        "labels = ['Sadness', 'Joy', 'Fear', 'Anger', 'Surprise', 'Disgust']\n",
        "\n",
        "# create a heatmap using seaborn\n",
        "sns.heatmap(cm, annot=True, cmap='Blues', fmt='g', xticklabels=labels, yticklabels=labels)\n",
        "\n",
        "# set plot labels\n",
        "plt.title('Confusion Matrix')\n",
        "plt.xlabel('Predicted Label')\n",
        "plt.ylabel('True Label')\n",
        "\n",
        "# show plot\n",
        "plt.show()"
      ],
      "metadata": {
        "colab": {
          "base_uri": "https://localhost:8080/",
          "height": 472
        },
        "id": "GIy3YmkNkVrY",
        "outputId": "cdddffe3-bb3e-484a-f016-3d98891e9606"
      },
      "execution_count": null,
      "outputs": [
        {
          "output_type": "display_data",
          "data": {
            "text/plain": [
              "<Figure size 640x480 with 2 Axes>"
            ],
            "image/png": "[encoded data removed]"
          },
          "metadata": {}
        }
      ]
    },
    {
      "cell_type": "code",
      "source": [
        "from sklearn.metrics import classification_report\n",
        "\n",
        "# Generate classification report\n",
        "report = classification_report(y_true, y_pred, target_names=labels)\n",
        "\n",
        "# Print report\n",
        "print(report)\n",
        "\n"
      ],
      "metadata": {
        "colab": {
          "base_uri": "https://localhost:8080/"
        },
        "id": "OjtyV5aFlJhg",
        "outputId": "6104ed18-554b-417a-86b2-42f2f060a5f4"
      },
      "execution_count": null,
      "outputs": [
        {
          "output_type": "stream",
          "name": "stdout",
          "text": [
            "              precision    recall  f1-score   support\n",
            "\n",
            "     Sadness       1.00      0.33      0.50         6\n",
            "         Joy       0.00      0.00      0.00         6\n",
            "        Fear       0.50      0.67      0.57         6\n",
            "       Anger       0.50      0.33      0.40         6\n",
            "    Surprise       1.00      0.17      0.29         6\n",
            "     Disgust       0.22      0.67      0.33         6\n",
            "\n",
            "    accuracy                           0.36        36\n",
            "   macro avg       0.54      0.36      0.35        36\n",
            "weighted avg       0.54      0.36      0.35        36\n",
            "\n"
          ]
        }
      ]
    },
    {
      "cell_type": "code",
      "source": [
        "#4.2\n",
        "from sklearn.metrics import classification_report\n",
        "\n",
        "# Generate classification report\n",
        "report = classification_report(y_true, y_pred, labels=['Joy'], zero_division=0)\n",
        "\n",
        "# Print the classification report\n",
        "print(report)\n"
      ],
      "metadata": {
        "colab": {
          "base_uri": "https://localhost:8080/"
        },
        "id": "Oibv25p3lzdJ",
        "outputId": "ac4ce571-d745-4ff0-b901-56c73e9195e1"
      },
      "execution_count": null,
      "outputs": [
        {
          "output_type": "stream",
          "name": "stdout",
          "text": [
            "              precision    recall  f1-score   support\n",
            "\n",
            "         Joy       0.50      0.33      0.40         6\n",
            "\n",
            "   micro avg       0.50      0.33      0.40         6\n",
            "   macro avg       0.50      0.33      0.40         6\n",
            "weighted avg       0.50      0.33      0.40         6\n",
            "\n"
          ]
        }
      ]
    },
    {
      "cell_type": "code",
      "source": [
        "print(test_data.columns)\n"
      ],
      "metadata": {
        "colab": {
          "base_uri": "https://localhost:8080/"
        },
        "id": "k3lDphUmFqRB",
        "outputId": "83cfba5b-c176-4fbe-8fad-6eec5ef11aa3"
      },
      "execution_count": null,
      "outputs": [
        {
          "output_type": "stream",
          "name": "stdout",
          "text": [
            "Index(['Sadness Lexicons', 'Sadness Sentences', 'Joy Lexicons',\n",
            "       'Joy Sentences', 'Fear Lexicons', 'Fear Sentences', 'Anger Lexicons',\n",
            "       'Anger Sentences', 'Surprise Lexicons', 'Surprise Sentence',\n",
            "       'Disgust Lexicons', 'Disgust Sentences', 'Sadness + Joy Lexicons',\n",
            "       'Sadness + Joy Sentences', 'Fear + Anger Lexicons',\n",
            "       'Fear + Anger Sentences', 'Surprise + Disgust Lexicons',\n",
            "       'Surprise + Disgust Sentences', 'Sadness + Joy + Fear Lexicons',\n",
            "       'Sadness + Joy + Fear Sentences', 'tokens'],\n",
            "      dtype='object')\n"
          ]
        }
      ]
    }
  ]
}